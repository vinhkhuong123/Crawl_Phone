{
 "cells": [
  {
   "cell_type": "code",
   "execution_count": 1,
   "id": "5e838cb3",
   "metadata": {},
   "outputs": [],
   "source": [
    "#khai báo các thư viện cần thiết cho việc cào dữ liệu\n",
    "import numpy as np\n",
    "from selenium import webdriver\n",
    "from time import sleep\n",
    "import random\n",
    "from selenium.common.exceptions import NoSuchElementException, ElementNotInteractableException\n",
    "from selenium.webdriver.common.by import By\n",
    "import pandas as pd\n",
    "import requests as rq\n",
    "from bs4 import BeautifulSoup\n"
   ]
  },
  {
   "cell_type": "code",
   "execution_count": 2,
   "id": "28de4404",
   "metadata": {},
   "outputs": [],
   "source": [
    "url = \"https://cellphones.com.vn/mobile.html\""
   ]
  },
  {
   "cell_type": "code",
   "execution_count": 3,
   "id": "22a0ad9e",
   "metadata": {},
   "outputs": [],
   "source": [
    "driver = webdriver.Chrome()"
   ]
  },
  {
   "cell_type": "code",
   "execution_count": 4,
   "id": "21d5ec9d",
   "metadata": {},
   "outputs": [],
   "source": [
    "driver.get(url)"
   ]
  },
  {
   "cell_type": "code",
   "execution_count": 5,
   "id": "b6879b58",
   "metadata": {},
   "outputs": [],
   "source": [
    "# hàm nhập số lần muốn xem thêm\n",
    "def xem_them(n):\n",
    "    for i in range(n):\n",
    "        x = driver.find_element(\"xpath\", \"/html/body/div[1]/div/div/div[3]/div[2]/div/div[6]/div[5]/div/div[2]\")\n",
    "        x.click()\n",
    "        sleep(random.randint(5,6))\n",
    "    print('them them:', i+1)"
   ]
  },
  {
   "cell_type": "code",
   "execution_count": 6,
   "id": "992d42dc",
   "metadata": {},
   "outputs": [
    {
     "name": "stdout",
     "output_type": "stream",
     "text": [
      "them them: 1\n"
     ]
    }
   ],
   "source": [
    "# cào 40 cái điện thoại\n",
    "xem_them(1)"
   ]
  },
  {
   "cell_type": "code",
   "execution_count": 7,
   "id": "1344c141",
   "metadata": {},
   "outputs": [],
   "source": [
    "content = rq.get(url).content\n",
    "soup = BeautifulSoup(content, \"html.parser\")"
   ]
  },
  {
   "cell_type": "code",
   "execution_count": 8,
   "id": "8e4f6194",
   "metadata": {},
   "outputs": [],
   "source": [
    "# with open(\"data.html\", \"wb\") as file:\n",
    "#     file.write(content)"
   ]
  },
  {
   "cell_type": "code",
   "execution_count": 9,
   "id": "dce18b4f",
   "metadata": {},
   "outputs": [],
   "source": [
    "links = driver.find_elements(By.CSS_SELECTOR,\".product-info [href]\")\n",
    "get_link = []\n",
    "for i in links:\n",
    "    get_link.append(i.get_attribute('href'))"
   ]
  },
  {
   "cell_type": "code",
   "execution_count": 10,
   "id": "717379dc",
   "metadata": {},
   "outputs": [
    {
     "data": {
      "text/plain": [
       "'https://cellphones.com.vn/iphone-14-pro-max.html'"
      ]
     },
     "execution_count": 10,
     "metadata": {},
     "output_type": "execute_result"
    }
   ],
   "source": [
    "get_link[0]"
   ]
  },
  {
   "cell_type": "code",
   "execution_count": 11,
   "id": "c6e298f2",
   "metadata": {},
   "outputs": [],
   "source": [
    "get_title = driver.find_elements(By.CSS_SELECTOR,\".product__name\")\n",
    "title = []\n",
    "\n",
    "for i in get_title:\n",
    "    title.append(i.text)"
   ]
  },
  {
   "cell_type": "code",
   "execution_count": 12,
   "id": "8fa16da1",
   "metadata": {},
   "outputs": [
    {
     "data": {
      "text/plain": [
       "40"
      ]
     },
     "execution_count": 12,
     "metadata": {},
     "output_type": "execute_result"
    }
   ],
   "source": [
    "len(title)"
   ]
  },
  {
   "cell_type": "code",
   "execution_count": 13,
   "id": "3b735ca7",
   "metadata": {},
   "outputs": [
    {
     "name": "stdout",
     "output_type": "stream",
     "text": [
      "khong co gia thu 11\n",
      "khong co gia thu 35\n"
     ]
    }
   ],
   "source": [
    "gia_hienthi = []\n",
    "for i in range(1, len(title)+1):\n",
    "    try:\n",
    "        get_gia_hienthi = driver.find_element(\"xpath\", \"/html/body/div[1]/div/div/div[3]/div[2]/div/div[6]/div[5]/div/div[1]/div[{}]/div[1]/a/div[4]/div/p[1]\".format(i))\n",
    "        gia_hienthi.append(get_gia_hienthi.text)\n",
    "    except NoSuchElementException:\n",
    "        print(\"khong co gia thu \" + str(i))\n",
    "        gia_hienthi.append(None)\n"
   ]
  },
  {
   "cell_type": "code",
   "execution_count": 14,
   "id": "23a4c42a",
   "metadata": {},
   "outputs": [
    {
     "data": {
      "text/plain": [
       "40"
      ]
     },
     "execution_count": 14,
     "metadata": {},
     "output_type": "execute_result"
    }
   ],
   "source": [
    "len(gia_hienthi)"
   ]
  },
  {
   "cell_type": "code",
   "execution_count": 15,
   "id": "0b5ca3dc",
   "metadata": {},
   "outputs": [
    {
     "name": "stdout",
     "output_type": "stream",
     "text": [
      "khong co gia thu 11\n",
      "khong co gia thu 14\n",
      "khong co gia thu 23\n",
      "khong co gia thu 35\n"
     ]
    }
   ],
   "source": [
    "gia_goc = []\n",
    "for i in range(1, len(title)+1):\n",
    "    try:\n",
    "        get_gia_goc = driver.find_element(\"xpath\", \"/html/body/div[1]/div/div/div[3]/div[2]/div/div[6]/div[5]/div/div[1]/div[{}]/div[1]/a/div[4]/div/p[2]\".format(i))\n",
    "        gia_goc.append(get_gia_goc.text)\n",
    "    except NoSuchElementException:\n",
    "        print(\"khong co gia thu \" + str(i))\n",
    "        gia_goc.append(None)\n"
   ]
  },
  {
   "cell_type": "code",
   "execution_count": 16,
   "id": "7424c75e",
   "metadata": {},
   "outputs": [
    {
     "data": {
      "text/plain": [
       "'29.990.000₫'"
      ]
     },
     "execution_count": 16,
     "metadata": {},
     "output_type": "execute_result"
    }
   ],
   "source": [
    "gia_goc[0]"
   ]
  },
  {
   "cell_type": "code",
   "execution_count": 17,
   "id": "e59d87ce",
   "metadata": {},
   "outputs": [],
   "source": [
    "gia_ld = []\n",
    "for i in range(1, len(title)+1):\n",
    "    try:\n",
    "        get_giald = driver.find_element(\"xpath\", \"/html/body/div[1]/div/div/div[3]/div[2]/div/div[6]/div[5]/div/div[1]/div[{}]/div[1]/a/div[5]/div/div/p\".format(i))\n",
    "        gia_ld.append(get_giald.text)\n",
    "    except NoSuchElementException:\n",
    "        print(\"khong co gia thu \" + str(i))\n",
    "        gia_ld.append(None)\n"
   ]
  },
  {
   "cell_type": "code",
   "execution_count": 18,
   "id": "365a6d1f",
   "metadata": {},
   "outputs": [
    {
     "data": {
      "text/plain": [
       "'24.690.000₫'"
      ]
     },
     "execution_count": 18,
     "metadata": {},
     "output_type": "execute_result"
    }
   ],
   "source": [
    "gia_ld[0]"
   ]
  },
  {
   "cell_type": "code",
   "execution_count": 19,
   "id": "0ee0e43f",
   "metadata": {},
   "outputs": [
    {
     "name": "stdout",
     "output_type": "stream",
     "text": [
      "khong co gia thu 11\n",
      "khong co gia thu 14\n",
      "khong co gia thu 23\n",
      "khong co gia thu 35\n"
     ]
    }
   ],
   "source": [
    "percent_dis = []\n",
    "for i in range(1, len(title)+1):\n",
    "    try:\n",
    "        discount = driver.find_element(\"xpath\", \"/html/body/div[1]/div/div/div[3]/div[2]/div/div[6]/div[5]/div/div[1]/div[{}]/div[1]/a/div[4]/div/div/p\".format(i))\n",
    "        percent_dis.append(discount.text)\n",
    "    except NoSuchElementException:\n",
    "        print(\"khong co gia thu \" + str(i))\n",
    "        percent_dis.append(None)\n"
   ]
  },
  {
   "cell_type": "code",
   "execution_count": 20,
   "id": "d6b8b96c",
   "metadata": {},
   "outputs": [
    {
     "data": {
      "text/plain": [
       "'Giảm 11%'"
      ]
     },
     "execution_count": 20,
     "metadata": {},
     "output_type": "execute_result"
    }
   ],
   "source": [
    "percent_dis[0]"
   ]
  },
  {
   "cell_type": "code",
   "execution_count": 21,
   "id": "bc6792e1",
   "metadata": {},
   "outputs": [
    {
     "name": "stdout",
     "output_type": "stream",
     "text": [
      "khong co uu dai 1\n",
      "khong co uu dai 3\n",
      "khong co uu dai 4\n",
      "khong co uu dai 6\n",
      "khong co uu dai 7\n",
      "khong co uu dai 8\n",
      "khong co uu dai 9\n",
      "khong co uu dai 11\n",
      "khong co uu dai 12\n",
      "khong co uu dai 15\n",
      "khong co uu dai 16\n",
      "khong co uu dai 17\n",
      "khong co uu dai 19\n",
      "khong co uu dai 21\n",
      "khong co uu dai 22\n",
      "khong co uu dai 27\n",
      "khong co uu dai 28\n",
      "khong co uu dai 29\n",
      "khong co uu dai 32\n",
      "khong co uu dai 35\n",
      "khong co uu dai 36\n",
      "khong co uu dai 37\n",
      "khong co uu dai 39\n",
      "khong co uu dai 40\n"
     ]
    }
   ],
   "source": [
    "bonus = []\n",
    "for i in range(1, len(title)+1):\n",
    "    try:\n",
    "        get_bonus = driver.find_element(\"xpath\", \"/html/body/div[1]/div/div/div[3]/div[2]/div[1]/div[6]/div[5]/div/div[1]/div[{}]/div[1]/a/div[6]/div/div/p\".format(i))\n",
    "        bonus.append(get_bonus.text)\n",
    "    except NoSuchElementException:\n",
    "        print(\"khong co uu dai \" + str(i))\n",
    "        bonus.append(None)\n"
   ]
  },
  {
   "cell_type": "code",
   "execution_count": 22,
   "id": "7fd2c6cc",
   "metadata": {},
   "outputs": [
    {
     "data": {
      "text/plain": [
       "'Nhận ngay ưu đãi YouTube Premium dành cho chủ sở hữu Samsung Galaxy và khác'"
      ]
     },
     "execution_count": 22,
     "metadata": {},
     "output_type": "execute_result"
    }
   ],
   "source": [
    "bonus[1]"
   ]
  },
  {
   "cell_type": "code",
   "execution_count": 34,
   "id": "59981b8a",
   "metadata": {},
   "outputs": [
    {
     "data": {
      "text/html": [
       "<div>\n",
       "<style scoped>\n",
       "    .dataframe tbody tr th:only-of-type {\n",
       "        vertical-align: middle;\n",
       "    }\n",
       "\n",
       "    .dataframe tbody tr th {\n",
       "        vertical-align: top;\n",
       "    }\n",
       "\n",
       "    .dataframe thead th {\n",
       "        text-align: right;\n",
       "    }\n",
       "</style>\n",
       "<table border=\"1\" class=\"dataframe\">\n",
       "  <thead>\n",
       "    <tr style=\"text-align: right;\">\n",
       "      <th></th>\n",
       "      <th>name</th>\n",
       "      <th>discount</th>\n",
       "      <th>links</th>\n",
       "      <th>gia show</th>\n",
       "      <th>gia goc</th>\n",
       "      <th>gia ban</th>\n",
       "      <th>bonus</th>\n",
       "    </tr>\n",
       "  </thead>\n",
       "  <tbody>\n",
       "    <tr>\n",
       "      <th>35</th>\n",
       "      <td>Tecno Camon 20 Pro</td>\n",
       "      <td>Giảm 8%</td>\n",
       "      <td>https://cellphones.com.vn/tecno-camon-20-pro.html</td>\n",
       "      <td>5.050.000₫</td>\n",
       "      <td>5.490.000₫</td>\n",
       "      <td>4.550.000₫</td>\n",
       "      <td>None</td>\n",
       "    </tr>\n",
       "    <tr>\n",
       "      <th>36</th>\n",
       "      <td>Tecno Spark 10 Pro 8GB 128GB</td>\n",
       "      <td>Giảm 9%</td>\n",
       "      <td>https://cellphones.com.vn/tecno-spark-10-pro.html</td>\n",
       "      <td>3.650.000₫</td>\n",
       "      <td>3.990.000₫</td>\n",
       "      <td>3.150.000₫</td>\n",
       "      <td>None</td>\n",
       "    </tr>\n",
       "    <tr>\n",
       "      <th>37</th>\n",
       "      <td>Samsung Galaxy Z Fold4</td>\n",
       "      <td>Giảm 28%</td>\n",
       "      <td>https://cellphones.com.vn/samsung-galaxy-z-fol...</td>\n",
       "      <td>29.490.000₫</td>\n",
       "      <td>40.990.000₫</td>\n",
       "      <td>28.990.000₫</td>\n",
       "      <td>Nhận ngay ưu đãi YouTube Premium dành cho chủ ...</td>\n",
       "    </tr>\n",
       "    <tr>\n",
       "      <th>38</th>\n",
       "      <td>Xiaomi 13 8GB 256GB</td>\n",
       "      <td>Giảm 20%</td>\n",
       "      <td>https://cellphones.com.vn/xiaomi-13.html</td>\n",
       "      <td>18.490.000₫</td>\n",
       "      <td>22.990.000₫</td>\n",
       "      <td>17.990.000₫</td>\n",
       "      <td>None</td>\n",
       "    </tr>\n",
       "    <tr>\n",
       "      <th>39</th>\n",
       "      <td>iPhone 14 Pro Max 512GB | Chính hãng VN/A</td>\n",
       "      <td>Giảm 8%</td>\n",
       "      <td>https://cellphones.com.vn/iphone-14-pro-max-51...</td>\n",
       "      <td>35.990.000₫</td>\n",
       "      <td>38.990.000₫</td>\n",
       "      <td>33.990.000₫</td>\n",
       "      <td>None</td>\n",
       "    </tr>\n",
       "  </tbody>\n",
       "</table>\n",
       "</div>"
      ],
      "text/plain": [
       "                                         name  discount  \\\n",
       "35                         Tecno Camon 20 Pro   Giảm 8%   \n",
       "36               Tecno Spark 10 Pro 8GB 128GB   Giảm 9%   \n",
       "37                     Samsung Galaxy Z Fold4  Giảm 28%   \n",
       "38                        Xiaomi 13 8GB 256GB  Giảm 20%   \n",
       "39  iPhone 14 Pro Max 512GB | Chính hãng VN/A   Giảm 8%   \n",
       "\n",
       "                                                links     gia show  \\\n",
       "35  https://cellphones.com.vn/tecno-camon-20-pro.html   5.050.000₫   \n",
       "36  https://cellphones.com.vn/tecno-spark-10-pro.html   3.650.000₫   \n",
       "37  https://cellphones.com.vn/samsung-galaxy-z-fol...  29.490.000₫   \n",
       "38           https://cellphones.com.vn/xiaomi-13.html  18.490.000₫   \n",
       "39  https://cellphones.com.vn/iphone-14-pro-max-51...  35.990.000₫   \n",
       "\n",
       "        gia goc      gia ban  \\\n",
       "35   5.490.000₫   4.550.000₫   \n",
       "36   3.990.000₫   3.150.000₫   \n",
       "37  40.990.000₫  28.990.000₫   \n",
       "38  22.990.000₫  17.990.000₫   \n",
       "39  38.990.000₫  33.990.000₫   \n",
       "\n",
       "                                                bonus  \n",
       "35                                               None  \n",
       "36                                               None  \n",
       "37  Nhận ngay ưu đãi YouTube Premium dành cho chủ ...  \n",
       "38                                               None  \n",
       "39                                               None  "
      ]
     },
     "execution_count": 34,
     "metadata": {},
     "output_type": "execute_result"
    }
   ],
   "source": [
    "data = {'name':title, 'discount':percent_dis, 'links':get_link, 'gia show':gia_hienthi, 'gia goc':gia_goc, \n",
    "        'gia ban':gia_ld, 'bonus':bonus}\n",
    "df = pd.DataFrame(data)\n",
    "df.tail()"
   ]
  },
  {
   "cell_type": "code",
   "execution_count": 24,
   "id": "b9fb53ae",
   "metadata": {},
   "outputs": [],
   "source": [
    "def get_tinhnang(link):\n",
    "    content = rq.get(link).content\n",
    "    soup = BeautifulSoup(content, \"html.parser\")\n",
    "    c=soup.find(class_='mobile')\n",
    "    p=c.find_all('li')\n",
    "    tinh_nang = []\n",
    "    for i in p:\n",
    "        tinh_nang.append(i.text)\n",
    "    return tinh_nang"
   ]
  },
  {
   "cell_type": "code",
   "execution_count": 25,
   "id": "6c7e7be2",
   "metadata": {},
   "outputs": [
    {
     "data": {
      "text/plain": [
       "[' Màn hình Dynamic Island - Sự biến mất của màn hình tai thỏ thay thế bằng thiết kế viên thuốc, OLED 6,7 inch, hỗ trợ always-on display',\n",
       " ' Cấu hình iPhone 14 Pro Max mạnh mẽ, hiệu năng cực khủng từ chipset A16 Bionic',\n",
       " ' Làm chủ công nghệ nhiếp ảnh - Camera sau 48MP, cảm biến TOF sống động',\n",
       " ' Pin liền lithium-ion kết hợp cùng công nghệ sạc nhanh cải tiến']"
      ]
     },
     "execution_count": 25,
     "metadata": {},
     "output_type": "execute_result"
    }
   ],
   "source": [
    "get_tinhnang(\"https://cellphones.com.vn/iphone-14-pro-max.html\")"
   ]
  },
  {
   "cell_type": "code",
   "execution_count": 26,
   "id": "356a18f2",
   "metadata": {},
   "outputs": [],
   "source": [
    "def get_thongtinsp(link):\n",
    "    content = rq.get(link).content\n",
    "    soup = BeautifulSoup(content, \"html.parser\")\n",
    "    info_pd = []\n",
    "    c=soup.find(class_='box-content warranty-info')\n",
    "    p=c.find_all('div', {\"class\": \"description\"})\n",
    "    info_pd = []\n",
    "    for i in p:\n",
    "        info_pd.append(i.text)\n",
    "    return info_pd"
   ]
  },
  {
   "cell_type": "code",
   "execution_count": 27,
   "id": "4031cf98",
   "metadata": {},
   "outputs": [
    {
     "data": {
      "text/plain": [
       "['Máy mới 100% , chính hãng Apple Việt Nam.CellphoneS hiện là đại lý bán lẻ uỷ quyền iPhone chính hãng VN/A của Apple Việt Nam',\n",
       " 'Hộp, Sách hướng dẫn, Cây lấy sim, Cáp Lightning - Type C',\n",
       " '1 ĐỔI 1 trong 30 ngày nếu có lỗi phần cứng nhà sản xuất. Bảo hành 12 tháng tại trung tâm bảo hành chính hãng Apple : Điện Thoại Vui ASP (Apple Authorized Service Provider)(xem chi tiết)',\n",
       " 'Giá sản phẩm đã bao gồm VAT']"
      ]
     },
     "execution_count": 27,
     "metadata": {},
     "output_type": "execute_result"
    }
   ],
   "source": [
    "get_thongtinsp(\"https://cellphones.com.vn/iphone-14-pro-max.html\")"
   ]
  },
  {
   "cell_type": "code",
   "execution_count": 28,
   "id": "0f4f75a2",
   "metadata": {},
   "outputs": [],
   "source": [
    "def get_thongso(link):\n",
    "    content = rq.get(link).content\n",
    "    soup = BeautifulSoup(content, \"html.parser\")\n",
    "    tech_pd = []\n",
    "    c=soup.find(class_='technical-content')\n",
    "    p=c.find_all('li')\n",
    "    for i in p:\n",
    "        tech_pd.append(i.text)\n",
    "    return tech_pd"
   ]
  },
  {
   "cell_type": "code",
   "execution_count": 29,
   "id": "5d586b02",
   "metadata": {},
   "outputs": [
    {
     "data": {
      "text/plain": [
       "['Kích thước màn hình 6.7 inches',\n",
       " 'Độ phân giải màn hình 2796 x 1290-pixel',\n",
       " 'Hệ điều hành iOS 16',\n",
       " 'Công nghệ màn hình Super Retina XDR OLED',\n",
       " 'Camera sau Camera chính: 48 MP, f/1.8, 24mm, 1.22µm, PDAF, OIS  Camera góc siêu rộng: 12 MP, f/2.2, 13mm, 120˚, 1.4µm, PDAF  Camera tele: 12 MP, f/2.8, 77mm (telephoto), PDAF, OIS, 3x optical zoom  Cảm biến độ sâu TOF 3D LiDAR ',\n",
       " 'Camera trước Camera selfie: 12 MP, f/1.9, 23mm, 1/3.6\", PDAF ',\n",
       " 'Dung lượng RAM 6 GB',\n",
       " 'Bộ nhớ trong 128 GB',\n",
       " 'Thẻ SIM 2 SIM (nano‑SIM và eSIM)',\n",
       " 'Tính năng màn hình 120Hz, Always-On display, HDR, True Tone, Haptic Touch, 2,000,000:1, 2000 nits',\n",
       " 'Pin 4.323 mAh',\n",
       " 'Chipset Apple A16 Bionic 6-core']"
      ]
     },
     "execution_count": 29,
     "metadata": {},
     "output_type": "execute_result"
    }
   ],
   "source": [
    "get_thongso(\"https://cellphones.com.vn/iphone-14-pro-max.html\")"
   ]
  },
  {
   "cell_type": "code",
   "execution_count": 30,
   "id": "62425ee1",
   "metadata": {},
   "outputs": [
    {
     "name": "stdout",
     "output_type": "stream",
     "text": [
      "https://cellphones.com.vn/iphone-14-pro-max.html\n",
      "https://cellphones.com.vn/samsung-galaxy-s23-ultra.html\n",
      "https://cellphones.com.vn/xiaomi-redmi-note-12.html\n",
      "https://cellphones.com.vn/iphone-13.html\n",
      "https://cellphones.com.vn/oppo-reno-8t.html\n",
      "https://cellphones.com.vn/iphone-11.html\n",
      "https://cellphones.com.vn/iphone-14.html\n",
      "https://cellphones.com.vn/iphone-13-pro-max.html\n",
      "https://cellphones.com.vn/iphone-14-pro.html\n",
      "https://cellphones.com.vn/samsung-galaxy-s22-ultra.html\n",
      "https://cellphones.com.vn/iphone-12-pro-max.html\n",
      "https://cellphones.com.vn/iphone-14-pro-max-256gb.html\n",
      "https://cellphones.com.vn/samsung-galaxy-s20-fe.html\n",
      "https://cellphones.com.vn/oppo-find-n2-flip.html\n",
      "https://cellphones.com.vn/iphone-12.html\n",
      "https://cellphones.com.vn/iphone-14-plus.html\n",
      "https://cellphones.com.vn/iphone-11-128gb.html\n",
      "https://cellphones.com.vn/xiaomi-redmi-note-12-pro-5g.html\n",
      "https://cellphones.com.vn/xiaomi-mi-12t.html\n",
      "https://cellphones.com.vn/xiaomi-redmi-note-12s.html\n",
      "https://cellphones.com.vn/vivo-y35.html\n",
      "https://cellphones.com.vn/iphone-12-128gb.html\n",
      "https://cellphones.com.vn/rog-phone-7-ultimate.html\n",
      "https://cellphones.com.vn/samsung-galaxy-z-flip-4.html\n",
      "https://cellphones.com.vn/xiaomi-redmi-note-12-pro-4g.html\n",
      "https://cellphones.com.vn/samsung-galaxy-m14.html\n",
      "https://cellphones.com.vn/xiaomi-mi-12-pro.html\n",
      "https://cellphones.com.vn/iphone-13-pro-max-256gb.html\n",
      "https://cellphones.com.vn/iphone-14-pro-256gb.html\n",
      "https://cellphones.com.vn/samsung-galaxy-s22-ultra-12gb-256gb.html\n",
      "https://cellphones.com.vn/samsung-galaxy-s21-fe-8gb-128gb.html\n",
      "https://cellphones.com.vn/xiaomi-13-lite.html\n",
      "https://cellphones.com.vn/samsung-galaxy-a34.html\n",
      "https://cellphones.com.vn/samsung-galaxy-s23.html\n",
      "https://cellphones.com.vn/iphone-13-pro.html\n",
      "https://cellphones.com.vn/tecno-camon-20-pro.html\n",
      "https://cellphones.com.vn/tecno-spark-10-pro.html\n",
      "https://cellphones.com.vn/samsung-galaxy-z-fold-4.html\n",
      "https://cellphones.com.vn/xiaomi-13.html\n",
      "https://cellphones.com.vn/iphone-14-pro-max-512gb.html\n"
     ]
    }
   ],
   "source": [
    "tinh_nang = []\n",
    "thongtin_sp = []\n",
    "thongso_kythuat = []\n",
    "\n",
    "for link in get_link:\n",
    "    print(link)\n",
    "    tinh_nang.append(get_tinhnang(link))\n",
    "    thongtin_sp.append(get_thongtinsp(link))\n",
    "    thongso_kythuat.append(get_thongso(link))"
   ]
  },
  {
   "cell_type": "code",
   "execution_count": 35,
   "id": "78593a05",
   "metadata": {},
   "outputs": [
    {
     "data": {
      "text/html": [
       "<div>\n",
       "<style scoped>\n",
       "    .dataframe tbody tr th:only-of-type {\n",
       "        vertical-align: middle;\n",
       "    }\n",
       "\n",
       "    .dataframe tbody tr th {\n",
       "        vertical-align: top;\n",
       "    }\n",
       "\n",
       "    .dataframe thead th {\n",
       "        text-align: right;\n",
       "    }\n",
       "</style>\n",
       "<table border=\"1\" class=\"dataframe\">\n",
       "  <thead>\n",
       "    <tr style=\"text-align: right;\">\n",
       "      <th></th>\n",
       "      <th>tinh nang</th>\n",
       "      <th>thong tin san pham</th>\n",
       "      <th>thong so ky thuat</th>\n",
       "    </tr>\n",
       "  </thead>\n",
       "  <tbody>\n",
       "    <tr>\n",
       "      <th>36</th>\n",
       "      <td>[Chinh phục nhiều tác vụ một cách mượt mà nhờ ...</td>\n",
       "      <td>[Mới, đầy đủ phụ kiện từ nhà sản xuất, Điện th...</td>\n",
       "      <td>[Kích thước màn hình 6.78 inches, Độ phân giải...</td>\n",
       "    </tr>\n",
       "    <tr>\n",
       "      <th>37</th>\n",
       "      <td>[ Camera mắt thần bóng đêm cho trải nghiệm chụ...</td>\n",
       "      <td>[Mới, đầy đủ phụ kiện từ nhà sản xuất, Bảo hàn...</td>\n",
       "      <td>[Kích thước màn hình 7.6 inches, Độ phân giải ...</td>\n",
       "    </tr>\n",
       "    <tr>\n",
       "      <th>38</th>\n",
       "      <td>[ Ống kính Leica chuyên nghiệp - 2 phong cách ...</td>\n",
       "      <td>[Mới, đầy đủ phụ kiện từ nhà sản xuất, Xiaomi ...</td>\n",
       "      <td>[Kích thước màn hình 6.36 inches, Độ phân giải...</td>\n",
       "    </tr>\n",
       "    <tr>\n",
       "      <th>39</th>\n",
       "      <td>[ Màn hình Dynamic Island - Sự biến mất của mà...</td>\n",
       "      <td>[Máy mới 100% , chính hãng Apple Việt Nam.Cell...</td>\n",
       "      <td>[Kích thước màn hình 6.7 inches, Độ phân giải ...</td>\n",
       "    </tr>\n",
       "  </tbody>\n",
       "</table>\n",
       "</div>"
      ],
      "text/plain": [
       "                                            tinh nang  \\\n",
       "36  [Chinh phục nhiều tác vụ một cách mượt mà nhờ ...   \n",
       "37  [ Camera mắt thần bóng đêm cho trải nghiệm chụ...   \n",
       "38  [ Ống kính Leica chuyên nghiệp - 2 phong cách ...   \n",
       "39  [ Màn hình Dynamic Island - Sự biến mất của mà...   \n",
       "\n",
       "                                   thong tin san pham  \\\n",
       "36  [Mới, đầy đủ phụ kiện từ nhà sản xuất, Điện th...   \n",
       "37  [Mới, đầy đủ phụ kiện từ nhà sản xuất, Bảo hàn...   \n",
       "38  [Mới, đầy đủ phụ kiện từ nhà sản xuất, Xiaomi ...   \n",
       "39  [Máy mới 100% , chính hãng Apple Việt Nam.Cell...   \n",
       "\n",
       "                                    thong so ky thuat  \n",
       "36  [Kích thước màn hình 6.78 inches, Độ phân giải...  \n",
       "37  [Kích thước màn hình 7.6 inches, Độ phân giải ...  \n",
       "38  [Kích thước màn hình 6.36 inches, Độ phân giải...  \n",
       "39  [Kích thước màn hình 6.7 inches, Độ phân giải ...  "
      ]
     },
     "execution_count": 35,
     "metadata": {},
     "output_type": "execute_result"
    }
   ],
   "source": [
    "data1 = {'tinh nang':tinh_nang, 'thong tin san pham':thongtin_sp, 'thong so ky thuat':thongso_kythuat}\n",
    "info_product = pd.DataFrame(data1)\n",
    "info_product.tail(4)"
   ]
  },
  {
   "cell_type": "code",
   "execution_count": 36,
   "id": "23e4249e",
   "metadata": {},
   "outputs": [
    {
     "data": {
      "text/plain": [
       "tinh nang             [ Màn hình Dynamic Island - Sự biến mất của mà...\n",
       "thong tin san pham    [Máy mới 100% , chính hãng Apple Việt Nam.Cell...\n",
       "thong so ky thuat     [Kích thước màn hình 6.7 inches, Độ phân giải ...\n",
       "Name: 0, dtype: object"
      ]
     },
     "execution_count": 36,
     "metadata": {},
     "output_type": "execute_result"
    }
   ],
   "source": [
    "info_product.iloc[0]"
   ]
  },
  {
   "cell_type": "code",
   "execution_count": 37,
   "id": "843a026d",
   "metadata": {},
   "outputs": [],
   "source": [
    "# link test = https://cellphones.com.vn/iphone-14-pro-max.html"
   ]
  },
  {
   "cell_type": "code",
   "execution_count": 38,
   "id": "e319fec7",
   "metadata": {},
   "outputs": [],
   "source": [
    "def get_name(link):\n",
    "    driver.get(link)\n",
    "    cus_name = []\n",
    "    elems = driver.find_elements(By.CSS_SELECTOR,\".name\")\n",
    "    for i in elems:\n",
    "        cus_name.append(i.text) \n",
    "    return cus_name"
   ]
  },
  {
   "cell_type": "code",
   "execution_count": 39,
   "id": "97b0edf2",
   "metadata": {},
   "outputs": [
    {
     "data": {
      "text/plain": [
       "['undefined', 'DUC', 'undefined', 'nnada', 'Trần Thanh Tiền']"
      ]
     },
     "execution_count": 39,
     "metadata": {},
     "output_type": "execute_result"
    }
   ],
   "source": [
    "get_name(\"https://cellphones.com.vn/iphone-14-pro-max.html\")"
   ]
  },
  {
   "cell_type": "code",
   "execution_count": 40,
   "id": "dfb734b8",
   "metadata": {},
   "outputs": [],
   "source": [
    "def get_time(link):\n",
    "    driver.get(link)\n",
    "    cus_time = []\n",
    "    elems = driver.find_elements(By.CSS_SELECTOR,\".date-time\")\n",
    "    for i in elems:\n",
    "        cus_time.append(i.text)\n",
    "    return cus_time"
   ]
  },
  {
   "cell_type": "code",
   "execution_count": 41,
   "id": "2e5d0fb1",
   "metadata": {},
   "outputs": [
    {
     "data": {
      "text/plain": [
       "['4/6/2023 07:25',\n",
       " '31/5/2023 02:14',\n",
       " '16/5/2023 03:41',\n",
       " '22/2/2023 07:12',\n",
       " '2/2/2023 08:57']"
      ]
     },
     "execution_count": 41,
     "metadata": {},
     "output_type": "execute_result"
    }
   ],
   "source": [
    "get_time(\"https://cellphones.com.vn/iphone-14-pro-max.html\")"
   ]
  },
  {
   "cell_type": "code",
   "execution_count": 42,
   "id": "886ab7fe",
   "metadata": {},
   "outputs": [],
   "source": [
    "def get_cmt(link):\n",
    "    cmt = []\n",
    "    elems = driver.find_elements(By.CSS_SELECTOR,\".comment-content\")\n",
    "    for i in elems:\n",
    "        cmt.append(i.text) \n",
    "    return cmt"
   ]
  },
  {
   "cell_type": "code",
   "execution_count": 43,
   "id": "d8c165e2",
   "metadata": {},
   "outputs": [
    {
     "data": {
      "text/plain": [
       "['Nhận xét : Hôm 2/6, mình và mẹ có ghé chi nhanh 347 Nguyễn Tri Phương, Phường 5, Quận 10, Thành phố Hồ Chí Minh để mua 14promax 128gb được 1 chị nhân viên tên Trần Thùy Linh tư vấn rất nhiệt tình và dễ thương. Mẹ mình vốn khó tính và kĩ lưỡng, hỏi khá nhiều nhưng mà chị vẫn vui vẻ trả lời và phục vụ rất nhiệt tình ạ. Mình khá hài lòng với thái độ phục vụ tại Chi nhánh này của CellphoneS',\n",
       " 'Nhận xét : M có SS galaxy S23 ultra 256 GB muốn đổi sang IP 14 pro max 128 GB thì hết bao nhiêu shop ?',\n",
       " 'Nhận xét : ầng 12A, Toà nhà AP Tower, 518B Điện Biên Phủ, Phường 21, Bình Thạnh, Tp.Chí Minh',\n",
       " 'Nhận xét : Sản phẩm quá tuyệt vời',\n",
       " 'Nhận xét : Mình có mua gói bảo hiểm đổi 1 trong 1 năm giờ mới 3 tháng pin mất 1% có giải quyết được ko nhỉ']"
      ]
     },
     "execution_count": 43,
     "metadata": {},
     "output_type": "execute_result"
    }
   ],
   "source": [
    "get_cmt(\"https://cellphones.com.vn/iphone-14-pro-max.html\")"
   ]
  },
  {
   "cell_type": "code",
   "execution_count": 44,
   "id": "a00d36ce",
   "metadata": {},
   "outputs": [],
   "source": [
    "def get_sao(link):\n",
    "    content = rq.get(link).content\n",
    "    soup = BeautifulSoup(content, \"html.parser\")\n",
    "    sao_danhgia = []\n",
    "    c=soup.find_all(class_='item-review-rating is-flex is-align-items-center')\n",
    "    for i in c:\n",
    "        star = i.find_all(class_='icon is-active')\n",
    "        sao_danhgia.append(len(star))\n",
    "    return sao_danhgia"
   ]
  },
  {
   "cell_type": "code",
   "execution_count": 45,
   "id": "11a616b3",
   "metadata": {},
   "outputs": [
    {
     "data": {
      "text/plain": [
       "[5, 5, 5, 5, 5]"
      ]
     },
     "execution_count": 45,
     "metadata": {},
     "output_type": "execute_result"
    }
   ],
   "source": [
    "get_sao(\"https://cellphones.com.vn/iphone-14-pro-max.html\")"
   ]
  },
  {
   "cell_type": "code",
   "execution_count": 46,
   "id": "89691007",
   "metadata": {},
   "outputs": [
    {
     "name": "stdout",
     "output_type": "stream",
     "text": [
      "https://cellphones.com.vn/iphone-14-pro-max.html\n",
      "https://cellphones.com.vn/samsung-galaxy-s23-ultra.html\n",
      "https://cellphones.com.vn/xiaomi-redmi-note-12.html\n",
      "https://cellphones.com.vn/iphone-13.html\n",
      "https://cellphones.com.vn/oppo-reno-8t.html\n",
      "https://cellphones.com.vn/iphone-11.html\n",
      "https://cellphones.com.vn/iphone-14.html\n",
      "https://cellphones.com.vn/iphone-13-pro-max.html\n",
      "https://cellphones.com.vn/iphone-14-pro.html\n",
      "https://cellphones.com.vn/samsung-galaxy-s22-ultra.html\n",
      "https://cellphones.com.vn/iphone-12-pro-max.html\n",
      "https://cellphones.com.vn/iphone-14-pro-max-256gb.html\n",
      "https://cellphones.com.vn/samsung-galaxy-s20-fe.html\n",
      "https://cellphones.com.vn/oppo-find-n2-flip.html\n",
      "https://cellphones.com.vn/iphone-12.html\n",
      "https://cellphones.com.vn/iphone-14-plus.html\n",
      "https://cellphones.com.vn/iphone-11-128gb.html\n",
      "https://cellphones.com.vn/xiaomi-redmi-note-12-pro-5g.html\n",
      "https://cellphones.com.vn/xiaomi-mi-12t.html\n",
      "https://cellphones.com.vn/xiaomi-redmi-note-12s.html\n",
      "https://cellphones.com.vn/vivo-y35.html\n",
      "https://cellphones.com.vn/iphone-12-128gb.html\n",
      "https://cellphones.com.vn/rog-phone-7-ultimate.html\n",
      "https://cellphones.com.vn/samsung-galaxy-z-flip-4.html\n",
      "https://cellphones.com.vn/xiaomi-redmi-note-12-pro-4g.html\n",
      "https://cellphones.com.vn/samsung-galaxy-m14.html\n",
      "https://cellphones.com.vn/xiaomi-mi-12-pro.html\n",
      "https://cellphones.com.vn/iphone-13-pro-max-256gb.html\n",
      "https://cellphones.com.vn/iphone-14-pro-256gb.html\n",
      "https://cellphones.com.vn/samsung-galaxy-s22-ultra-12gb-256gb.html\n",
      "https://cellphones.com.vn/samsung-galaxy-s21-fe-8gb-128gb.html\n",
      "https://cellphones.com.vn/xiaomi-13-lite.html\n",
      "https://cellphones.com.vn/samsung-galaxy-a34.html\n",
      "https://cellphones.com.vn/samsung-galaxy-s23.html\n",
      "https://cellphones.com.vn/iphone-13-pro.html\n",
      "https://cellphones.com.vn/tecno-camon-20-pro.html\n",
      "https://cellphones.com.vn/tecno-spark-10-pro.html\n",
      "https://cellphones.com.vn/samsung-galaxy-z-fold-4.html\n",
      "https://cellphones.com.vn/xiaomi-13.html\n",
      "https://cellphones.com.vn/iphone-14-pro-max-512gb.html\n"
     ]
    }
   ],
   "source": [
    "name_cus = []\n",
    "time = []\n",
    "comment = []\n",
    "danh_gia = []\n",
    "\n",
    "for link in get_link:\n",
    "    print(link)\n",
    "    name_cus.append(get_name(link))\n",
    "    time.append(get_time(link))\n",
    "    comment.append(get_cmt(link))\n",
    "    danh_gia.append(get_sao(link))"
   ]
  },
  {
   "cell_type": "code",
   "execution_count": 47,
   "id": "2e920818",
   "metadata": {},
   "outputs": [],
   "source": [
    "data2 = {'ten khach hang':name_cus, 'time':time, 'comment':comment, \"danh gia\":danh_gia}\n",
    "khach_hang = pd.DataFrame(data2)"
   ]
  },
  {
   "cell_type": "code",
   "execution_count": 48,
   "id": "d0d4650f",
   "metadata": {},
   "outputs": [
    {
     "data": {
      "text/html": [
       "<div>\n",
       "<style scoped>\n",
       "    .dataframe tbody tr th:only-of-type {\n",
       "        vertical-align: middle;\n",
       "    }\n",
       "\n",
       "    .dataframe tbody tr th {\n",
       "        vertical-align: top;\n",
       "    }\n",
       "\n",
       "    .dataframe thead th {\n",
       "        text-align: right;\n",
       "    }\n",
       "</style>\n",
       "<table border=\"1\" class=\"dataframe\">\n",
       "  <thead>\n",
       "    <tr style=\"text-align: right;\">\n",
       "      <th></th>\n",
       "      <th>ten khach hang</th>\n",
       "      <th>time</th>\n",
       "      <th>comment</th>\n",
       "      <th>danh gia</th>\n",
       "    </tr>\n",
       "  </thead>\n",
       "  <tbody>\n",
       "    <tr>\n",
       "      <th>36</th>\n",
       "      <td>[Nguyễn Bá Hùng Anh, Mai Văn Đỏ]</td>\n",
       "      <td>[21/6/2023 13:33, 4/6/2023 15:43]</td>\n",
       "      <td>[Nhận xét : Thiết kế đẹp, cảm ứng rất nhạy và ...</td>\n",
       "      <td>[5, 5]</td>\n",
       "    </tr>\n",
       "    <tr>\n",
       "      <th>37</th>\n",
       "      <td>[Trần Tuấn Duy, Trần Thị Kim Ánh, Chu Mai Linh]</td>\n",
       "      <td>[2/12/2022 15:26, 21/11/2022 11:35, 21/11/2022...</td>\n",
       "      <td>[Nhận xét : Rất tốt, mẫu mã đẹp, sắc nét, Nhận...</td>\n",
       "      <td>[5, 5, 5]</td>\n",
       "    </tr>\n",
       "    <tr>\n",
       "      <th>38</th>\n",
       "      <td>[]</td>\n",
       "      <td>[]</td>\n",
       "      <td>[]</td>\n",
       "      <td>[]</td>\n",
       "    </tr>\n",
       "    <tr>\n",
       "      <th>39</th>\n",
       "      <td>[]</td>\n",
       "      <td>[]</td>\n",
       "      <td>[]</td>\n",
       "      <td>[]</td>\n",
       "    </tr>\n",
       "  </tbody>\n",
       "</table>\n",
       "</div>"
      ],
      "text/plain": [
       "                                     ten khach hang  \\\n",
       "36                 [Nguyễn Bá Hùng Anh, Mai Văn Đỏ]   \n",
       "37  [Trần Tuấn Duy, Trần Thị Kim Ánh, Chu Mai Linh]   \n",
       "38                                               []   \n",
       "39                                               []   \n",
       "\n",
       "                                                 time  \\\n",
       "36                  [21/6/2023 13:33, 4/6/2023 15:43]   \n",
       "37  [2/12/2022 15:26, 21/11/2022 11:35, 21/11/2022...   \n",
       "38                                                 []   \n",
       "39                                                 []   \n",
       "\n",
       "                                              comment   danh gia  \n",
       "36  [Nhận xét : Thiết kế đẹp, cảm ứng rất nhạy và ...     [5, 5]  \n",
       "37  [Nhận xét : Rất tốt, mẫu mã đẹp, sắc nét, Nhận...  [5, 5, 5]  \n",
       "38                                                 []         []  \n",
       "39                                                 []         []  "
      ]
     },
     "execution_count": 48,
     "metadata": {},
     "output_type": "execute_result"
    }
   ],
   "source": [
    "khach_hang.tail(4)"
   ]
  },
  {
   "cell_type": "code",
   "execution_count": 49,
   "id": "995dec0a",
   "metadata": {},
   "outputs": [
    {
     "data": {
      "text/plain": [
       "ten khach hang    [undefined, DUC, undefined, nnada, Trần Thanh ...\n",
       "time              [4/6/2023 07:25, 31/5/2023 02:14, 16/5/2023 03...\n",
       "comment           [Nhận xét : Hôm 2/6, mình và mẹ có ghé chi nha...\n",
       "danh gia                                            [5, 5, 5, 5, 5]\n",
       "Name: 0, dtype: object"
      ]
     },
     "execution_count": 49,
     "metadata": {},
     "output_type": "execute_result"
    }
   ],
   "source": [
    "khach_hang.iloc[0]"
   ]
  }
 ],
 "metadata": {
  "kernelspec": {
   "display_name": "Python 3 (ipykernel)",
   "language": "python",
   "name": "python3"
  },
  "language_info": {
   "codemirror_mode": {
    "name": "ipython",
    "version": 3
   },
   "file_extension": ".py",
   "mimetype": "text/x-python",
   "name": "python",
   "nbconvert_exporter": "python",
   "pygments_lexer": "ipython3",
   "version": "3.11.2"
  }
 },
 "nbformat": 4,
 "nbformat_minor": 5
}
